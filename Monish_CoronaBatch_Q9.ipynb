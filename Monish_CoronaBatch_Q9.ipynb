{
  "nbformat": 4,
  "nbformat_minor": 0,
  "metadata": {
    "kernelspec": {
      "name": "python3",
      "display_name": "Python 3"
    },
    "language_info": {
      "codemirror_mode": {
        "name": "ipython",
        "version": 3
      },
      "file_extension": ".py",
      "mimetype": "text/x-python",
      "name": "python",
      "nbconvert_exporter": "python",
      "pygments_lexer": "ipython3",
      "version": "3.6.6"
    },
    "colab": {
      "name": "Monish- CoronaBatch-Q9.ipynb",
      "provenance": [],
      "collapsed_sections": [],
      "include_colab_link": true
    },
    "accelerator": "GPU",
    "widgets": {
      "application/vnd.jupyter.widget-state+json": {
        "4b7e5a9112fe4d51b538bb942d49e048": {
          "model_module": "@jupyter-widgets/controls",
          "model_name": "HBoxModel",
          "state": {
            "_view_name": "HBoxView",
            "_dom_classes": [],
            "_model_name": "HBoxModel",
            "_view_module": "@jupyter-widgets/controls",
            "_model_module_version": "1.5.0",
            "_view_count": null,
            "_view_module_version": "1.5.0",
            "box_style": "",
            "layout": "IPY_MODEL_bfb3d15f0735425ea7675638d7b03d6a",
            "_model_module": "@jupyter-widgets/controls",
            "children": [
              "IPY_MODEL_4acfcc7aaa304a2d9d8559d0ddd006bd",
              "IPY_MODEL_5ca44eaadf1148519de88dd52df060c2"
            ]
          }
        },
        "bfb3d15f0735425ea7675638d7b03d6a": {
          "model_module": "@jupyter-widgets/base",
          "model_name": "LayoutModel",
          "state": {
            "_view_name": "LayoutView",
            "grid_template_rows": null,
            "right": null,
            "justify_content": null,
            "_view_module": "@jupyter-widgets/base",
            "overflow": null,
            "_model_module_version": "1.2.0",
            "_view_count": null,
            "flex_flow": null,
            "width": null,
            "min_width": null,
            "border": null,
            "align_items": null,
            "bottom": null,
            "_model_module": "@jupyter-widgets/base",
            "top": null,
            "grid_column": null,
            "overflow_y": null,
            "overflow_x": null,
            "grid_auto_flow": null,
            "grid_area": null,
            "grid_template_columns": null,
            "flex": null,
            "_model_name": "LayoutModel",
            "justify_items": null,
            "grid_row": null,
            "max_height": null,
            "align_content": null,
            "visibility": null,
            "align_self": null,
            "height": null,
            "min_height": null,
            "padding": null,
            "grid_auto_rows": null,
            "grid_gap": null,
            "max_width": null,
            "order": null,
            "_view_module_version": "1.2.0",
            "grid_template_areas": null,
            "object_position": null,
            "object_fit": null,
            "grid_auto_columns": null,
            "margin": null,
            "display": null,
            "left": null
          }
        },
        "4acfcc7aaa304a2d9d8559d0ddd006bd": {
          "model_module": "@jupyter-widgets/controls",
          "model_name": "FloatProgressModel",
          "state": {
            "_view_name": "ProgressView",
            "style": "IPY_MODEL_86712f930c884ab4bd613aefee06a58a",
            "_dom_classes": [],
            "description": "",
            "_model_name": "FloatProgressModel",
            "bar_style": "info",
            "max": 1,
            "_view_module": "@jupyter-widgets/controls",
            "_model_module_version": "1.5.0",
            "value": 1,
            "_view_count": null,
            "_view_module_version": "1.5.0",
            "orientation": "horizontal",
            "min": 0,
            "description_tooltip": null,
            "_model_module": "@jupyter-widgets/controls",
            "layout": "IPY_MODEL_dbe35722b5c949e9a0838f4f1b172999"
          }
        },
        "5ca44eaadf1148519de88dd52df060c2": {
          "model_module": "@jupyter-widgets/controls",
          "model_name": "HTMLModel",
          "state": {
            "_view_name": "HTMLView",
            "style": "IPY_MODEL_fcfc5771394f4415a54f90173961085a",
            "_dom_classes": [],
            "description": "",
            "_model_name": "HTMLModel",
            "placeholder": "​",
            "_view_module": "@jupyter-widgets/controls",
            "_model_module_version": "1.5.0",
            "value": " 170500096/? [00:30&lt;00:00, 17205302.01it/s]",
            "_view_count": null,
            "_view_module_version": "1.5.0",
            "description_tooltip": null,
            "_model_module": "@jupyter-widgets/controls",
            "layout": "IPY_MODEL_f1ff936effd54e728bce682a862fa568"
          }
        },
        "86712f930c884ab4bd613aefee06a58a": {
          "model_module": "@jupyter-widgets/controls",
          "model_name": "ProgressStyleModel",
          "state": {
            "_view_name": "StyleView",
            "_model_name": "ProgressStyleModel",
            "description_width": "initial",
            "_view_module": "@jupyter-widgets/base",
            "_model_module_version": "1.5.0",
            "_view_count": null,
            "_view_module_version": "1.2.0",
            "bar_color": null,
            "_model_module": "@jupyter-widgets/controls"
          }
        },
        "dbe35722b5c949e9a0838f4f1b172999": {
          "model_module": "@jupyter-widgets/base",
          "model_name": "LayoutModel",
          "state": {
            "_view_name": "LayoutView",
            "grid_template_rows": null,
            "right": null,
            "justify_content": null,
            "_view_module": "@jupyter-widgets/base",
            "overflow": null,
            "_model_module_version": "1.2.0",
            "_view_count": null,
            "flex_flow": null,
            "width": null,
            "min_width": null,
            "border": null,
            "align_items": null,
            "bottom": null,
            "_model_module": "@jupyter-widgets/base",
            "top": null,
            "grid_column": null,
            "overflow_y": null,
            "overflow_x": null,
            "grid_auto_flow": null,
            "grid_area": null,
            "grid_template_columns": null,
            "flex": null,
            "_model_name": "LayoutModel",
            "justify_items": null,
            "grid_row": null,
            "max_height": null,
            "align_content": null,
            "visibility": null,
            "align_self": null,
            "height": null,
            "min_height": null,
            "padding": null,
            "grid_auto_rows": null,
            "grid_gap": null,
            "max_width": null,
            "order": null,
            "_view_module_version": "1.2.0",
            "grid_template_areas": null,
            "object_position": null,
            "object_fit": null,
            "grid_auto_columns": null,
            "margin": null,
            "display": null,
            "left": null
          }
        },
        "fcfc5771394f4415a54f90173961085a": {
          "model_module": "@jupyter-widgets/controls",
          "model_name": "DescriptionStyleModel",
          "state": {
            "_view_name": "StyleView",
            "_model_name": "DescriptionStyleModel",
            "description_width": "",
            "_view_module": "@jupyter-widgets/base",
            "_model_module_version": "1.5.0",
            "_view_count": null,
            "_view_module_version": "1.2.0",
            "_model_module": "@jupyter-widgets/controls"
          }
        },
        "f1ff936effd54e728bce682a862fa568": {
          "model_module": "@jupyter-widgets/base",
          "model_name": "LayoutModel",
          "state": {
            "_view_name": "LayoutView",
            "grid_template_rows": null,
            "right": null,
            "justify_content": null,
            "_view_module": "@jupyter-widgets/base",
            "overflow": null,
            "_model_module_version": "1.2.0",
            "_view_count": null,
            "flex_flow": null,
            "width": null,
            "min_width": null,
            "border": null,
            "align_items": null,
            "bottom": null,
            "_model_module": "@jupyter-widgets/base",
            "top": null,
            "grid_column": null,
            "overflow_y": null,
            "overflow_x": null,
            "grid_auto_flow": null,
            "grid_area": null,
            "grid_template_columns": null,
            "flex": null,
            "_model_name": "LayoutModel",
            "justify_items": null,
            "grid_row": null,
            "max_height": null,
            "align_content": null,
            "visibility": null,
            "align_self": null,
            "height": null,
            "min_height": null,
            "padding": null,
            "grid_auto_rows": null,
            "grid_gap": null,
            "max_width": null,
            "order": null,
            "_view_module_version": "1.2.0",
            "grid_template_areas": null,
            "object_position": null,
            "object_fit": null,
            "grid_auto_columns": null,
            "margin": null,
            "display": null,
            "left": null
          }
        }
      }
    }
  },
  "cells": [
    {
      "cell_type": "markdown",
      "metadata": {
        "id": "view-in-github",
        "colab_type": "text"
      },
      "source": [
        "<a href=\"https://colab.research.google.com/github/monishrao/Python-/blob/master/Monish_CoronaBatch_Q9.ipynb\" target=\"_parent\"><img src=\"https://colab.research.google.com/assets/colab-badge.svg\" alt=\"Open In Colab\"/></a>"
      ]
    },
    {
      "cell_type": "code",
      "metadata": {
        "id": "QVbdg0z4poCc",
        "colab_type": "code",
        "colab": {}
      },
      "source": [
        "%matplotlib inline"
      ],
      "execution_count": 0,
      "outputs": []
    },
    {
      "cell_type": "code",
      "metadata": {
        "id": "-yVpodAMpoCi",
        "colab_type": "code",
        "colab": {}
      },
      "source": [
        "import torch\n",
        "import torchvision\n",
        "import torchvision.transforms as transforms\n",
        "from datetime import datetime \n",
        "\n",
        "# CoronaBatch : Ashwin , Ashish , Sangeeta , Monish"
      ],
      "execution_count": 0,
      "outputs": []
    },
    {
      "cell_type": "code",
      "metadata": {
        "id": "D8Tjigo2poCl",
        "colab_type": "code",
        "outputId": "c456acfc-acdd-48e3-aa23-d3dcd31f1c11",
        "colab": {
          "base_uri": "https://localhost:8080/",
          "height": 100,
          "referenced_widgets": [
            "4b7e5a9112fe4d51b538bb942d49e048",
            "bfb3d15f0735425ea7675638d7b03d6a",
            "4acfcc7aaa304a2d9d8559d0ddd006bd",
            "5ca44eaadf1148519de88dd52df060c2",
            "86712f930c884ab4bd613aefee06a58a",
            "dbe35722b5c949e9a0838f4f1b172999",
            "fcfc5771394f4415a54f90173961085a",
            "f1ff936effd54e728bce682a862fa568"
          ]
        }
      },
      "source": [
        "transform = transforms.Compose(\n",
        "    [transforms.ToTensor(),\n",
        "     transforms.Normalize((0.5, 0.5, 0.5), (0.5, 0.5, 0.5))])\n",
        "\n",
        "trainset = torchvision.datasets.CIFAR10(root='./data', train=True,\n",
        "                                        download=True, transform=transform)\n",
        "trainloader = torch.utils.data.DataLoader(trainset, batch_size=4,\n",
        "                                          shuffle=True, num_workers=2)\n",
        "\n",
        "testset = torchvision.datasets.CIFAR10(root='./data', train=False,\n",
        "                                       download=True, transform=transform)\n",
        "testloader = torch.utils.data.DataLoader(testset, batch_size=4,\n",
        "                                         shuffle=False, num_workers=2)\n",
        "\n",
        "classes = ('plane', 'car', 'bird', 'cat',\n",
        "           'deer', 'dog', 'frog', 'horse', 'ship', 'truck')"
      ],
      "execution_count": 0,
      "outputs": [
        {
          "output_type": "stream",
          "text": [
            "Downloading https://www.cs.toronto.edu/~kriz/cifar-10-python.tar.gz to ./data/cifar-10-python.tar.gz\n"
          ],
          "name": "stdout"
        },
        {
          "output_type": "display_data",
          "data": {
            "application/vnd.jupyter.widget-view+json": {
              "model_id": "4b7e5a9112fe4d51b538bb942d49e048",
              "version_minor": 0,
              "version_major": 2
            },
            "text/plain": [
              "HBox(children=(FloatProgress(value=1.0, bar_style='info', max=1.0), HTML(value='')))"
            ]
          },
          "metadata": {
            "tags": []
          }
        },
        {
          "output_type": "stream",
          "text": [
            "Extracting ./data/cifar-10-python.tar.gz to ./data\n",
            "Files already downloaded and verified\n"
          ],
          "name": "stdout"
        }
      ]
    },
    {
      "cell_type": "markdown",
      "metadata": {
        "id": "_cj433rtpoCn",
        "colab_type": "text"
      },
      "source": [
        "Let us show some of the training images, for fun.\n",
        "\n"
      ]
    },
    {
      "cell_type": "code",
      "metadata": {
        "id": "daA7bADhpoCo",
        "colab_type": "code",
        "outputId": "ed6a6f96-7272-43d8-a81f-72f20f001e2e",
        "colab": {
          "base_uri": "https://localhost:8080/",
          "height": 155
        }
      },
      "source": [
        "import matplotlib.pyplot as plt\n",
        "import numpy as np\n",
        "\n",
        "# functions to show an image\n",
        "\n",
        "\n",
        "def imshow(img):\n",
        "    img = img / 2 + 0.5     # unnormalize\n",
        "    npimg = img.numpy()\n",
        "    plt.imshow(np.transpose(npimg, (1, 2, 0)))\n",
        "\n",
        "\n",
        "# get some random training images\n",
        "dataiter = iter(trainloader)\n",
        "images, labels = dataiter.next()\n",
        "\n",
        "# show images\n",
        "imshow(torchvision.utils.make_grid(images))\n",
        "# print labels\n",
        "print(' '.join('%5s' % classes[labels[j]] for j in range(4)))"
      ],
      "execution_count": 0,
      "outputs": [
        {
          "output_type": "stream",
          "text": [
            "horse truck  deer  deer\n"
          ],
          "name": "stdout"
        },
        {
          "output_type": "display_data",
          "data": {
            "image/png": "[encoded data removed]",
            "text/plain": [
              "<Figure size 432x288 with 1 Axes>"
            ]
          },
          "metadata": {
            "tags": [],
            "needs_background": "light"
          }
        }
      ]
    },
    {
      "cell_type": "code",
      "metadata": {
        "id": "vzlV4bAlkzgM",
        "colab_type": "code",
        "colab": {}
      },
      "source": [
        "    def get_data_loader(self, train, test, batch_size=128):\n",
        "        SEED = 1\n",
        "        # CUDA?\n",
        "        cuda = torch.cuda.is_available()\n",
        "        print(\"CUDA Available?\", cuda)\n",
        "\n",
        "        # For reproducibility\n",
        "        torch.manual_seed(SEED)\n",
        "\n",
        "        if cuda:\n",
        "            torch.cuda.manual_seed(SEED)\n",
        "\n",
        "        # dataloader arguments - something you'll fetch these from cmdprmt\n",
        "        dataloader_args = dict(shuffle=True, batch_size=batch_size, num_workers=4, pin_memory=True) if cuda else dict(shuffle=True, batch_size=64)\n",
        "\n",
        "        # train dataloader\n",
        "        train_loader = torch.utils.data.DataLoader(train, **dataloader_args)\n",
        "\n",
        "        # test dataloader\n",
        "        test_loader = torch.utils.data.DataLoader(test, **dataloader_args)\n",
        "        return train_loader, test_loader"
      ],
      "execution_count": 0,
      "outputs": []
    },
    {
      "cell_type": "markdown",
      "metadata": {
        "id": "28OpHA_LpoCq",
        "colab_type": "text"
      },
      "source": [
        "2. Define a Convolution Neural Network\n",
        "^^^^^^^^^^^^^^^^^^^^^^^^^^^^^^^^^^^^^^\n",
        "Copy the neural network from the Neural Networks section before and modify it to\n",
        "take 3-channel images (instead of 1-channel images as it was defined).\n",
        "\n"
      ]
    },
    {
      "cell_type": "code",
      "metadata": {
        "id": "WSdaOCSqR19W",
        "colab_type": "code",
        "outputId": "5d4e343e-3b51-4b64-d9a7-29c27ab375f2",
        "colab": {
          "base_uri": "https://localhost:8080/",
          "height": 34
        }
      },
      "source": [
        "import torch.nn as nn\n",
        "import torch.nn.functional as F\n",
        "\n",
        "dropout = 0.09 \n",
        "class Net(nn.Module):\n",
        "    print(\"Current Date/Time: \", datetime.now())\n",
        "    def __init__(self):\n",
        "        super(Net, self).__init__() #returns a proxy object that allows us to access methods of the base class\n",
        "        #x2 = conv x1\n",
        "        self.conv1 = nn.Conv2d(3, 32, 2) #1st Convolution Layer: input=1 #kernels=32,kernelsize=3,stride=1,padding=1, lrf = 3\n",
        "        self.relu =  nn.ReLU()\n",
        "        self.bn =  nn.BatchNorm2d(64)\n",
        "        self.do = nn.Dropout(dropout)\n",
        "\n",
        "        #x3 = conv x2\n",
        "        self.conv2 = nn.Conv2d(32, 32, 2)#2nd Convolution Layer:input=32 #kernels=64,kernelsize=3,stride=1,padding=1,lrf = 5\n",
        "        self.relu = nn.ReLU()           \n",
        "        self.bn = nn.BatchNorm2d(64)\n",
        "        self.do = nn.Dropout(dropout)\n",
        "        \n",
        "        #x4 = pool (x1,x2,x3)\n",
        "        self.pool1 = nn.MaxPool2d(2, 2)#1st max pooling layer: - 2x2, reduces the image size by half (makes it 14x14), doubling the receptive field, lrf=10\n",
        "        \n",
        "        #x5 = conv(x4)\n",
        "        self.conv3 = nn.Conv2d(32, 32, 2)#3rd Convolution Layer: input=64 #kernels=128,kernelsize=3,stride=1,padding=1,lrf = 12\n",
        "        self.relu = nn.ReLU()           \n",
        "        self.bn = nn.BatchNorm2d(64)\n",
        "        self.do = nn.Dropout(dropout)\n",
        "\n",
        "        #x6 = conv(x5)\n",
        "        self.conv4 = nn.Conv2d(32, 32, 2)#3rd Convolution Layer: input=64 #kernels=128,kernelsize=3,stride=1,padding=1,lrf = 12\n",
        "        self.relu = nn.ReLU()           \n",
        "        self.bn = nn.BatchNorm2d(128)\n",
        "        self.do = nn.Dropout(dropout)\n",
        "\n",
        "        #x7 = conv(x6)\n",
        "        self.conv5 = nn.Conv2d(32, 32, 2)#3rd Convolution Layer: input=64 #kernels=128,kernelsize=3,stride=1,padding=1,lrf = 12\n",
        "        self.relu = nn.ReLU()           \n",
        "        self.bn = nn.BatchNorm2d(64)\n",
        "        self.do = nn.Dropout(dropout)\n",
        "\n",
        "        #x8 = pool (x5,x6,x7)\n",
        "        self.pool2 = nn.MaxPool2d(2, 2)#1st max pooling layer: - 2x2, reduces the image size by half (makes it 14x14), doubling the receptive field, lrf=10\n",
        " \n",
        "        #x9 = conv(x8)\n",
        "        self.conv6 = nn.Conv2d(32, 32, 2)  #4th Convolution Layer: input=128 #kernels=256,kernelsize=3,stride=1,padding=1,lrf = 14\n",
        "        self.relu = nn.ReLU()           \n",
        "        self.bn = nn.BatchNorm2d(64)\n",
        "        self.do = nn.Dropout(dropout)\n",
        " \n",
        "        #x10 = conv(x9)\n",
        "        self.conv7 = nn.Conv2d(32, 32, 2)#5th Convolution Layer: input=256 #kernels=512,kernelsize=3,stride=1,padding=1,lrf = 30\n",
        "        self.relu = nn.ReLU()           \n",
        "        self.bn = nn.BatchNorm2d(64)\n",
        "        self.do = nn.Dropout(dropout)\n",
        " \n",
        "        #x11 = conv(x10)\n",
        "        self.conv8 = nn.Conv2d(32, 32, 2)#6th Convolution Layer: input=512 #kernels=1024,kernelsize=3,stride=1,padding=1,lrf = 32\n",
        "        self.relu = nn.ReLU()           \n",
        "        self.bn = nn.BatchNorm2d(64)\n",
        "        self.do = nn.Dropout(dropout)\n",
        "   \n",
        "        #x12 = gap(x11)\n",
        "        self.avgpool = nn.AvgPool2d(kernel_size= 1)\n",
        "\n",
        "        #x13 = fc(x10)\n",
        "        self.fc1 = nn.Linear(96*3, 10)\n",
        "\n",
        "    def forward(self, x):\n",
        "        #x4\n",
        "        x = self.pool1(self.do(self.relu(self.conv2(self.do(self.relu(self.conv1(x))))))) #Tranforming the input channels using RELU function after two convolutions (conv1 & conv2) and pooling layer pool1 applied\n",
        "      \n",
        "        #x8\n",
        "        x = self.pool2(self.do(self.relu(self.conv5(self.do(self.relu(self.conv4(self.do(self.relu(self.conv3(x))))))))))\n",
        "      \n",
        "        #Tranforming the input channels using RELU function after two convolutions (conv3 & conv4) and pooling layer pool2 applied  \n",
        "        #x11\n",
        "        \n",
        "        x = self.do(self.relu(self.conv8(self.do(self.relu(self.conv7(self.do(self.relu(self.conv6(x)))))))))\n",
        "        \n",
        "  \n",
        "        #x12 = gap(x11)\n",
        "        x = self.avgpool(x)\n",
        "        \n",
        "        print(x.shape)\n",
        "\n",
        "        #x13 = fc(x12)\n",
        " \n",
        "\n",
        "        x = x.view(-1, 288) #flattens/reshape the original tensor, in this case, flattens to a 1D array of 10 elements\n",
        "\n",
        "        x = self.fc1(x)\n",
        "\n",
        "\n",
        "\n",
        "        #ould you change self.fc1 = nn.Linear(64*9*9, 1024) \n",
        "        return F.log_softmax(x)\n",
        "\n",
        "net = Net()"
      ],
      "execution_count": 0,
      "outputs": [
        {
          "output_type": "stream",
          "text": [
            "Current Date/Time:  2020-05-30 16:39:34.137367\n"
          ],
          "name": "stdout"
        }
      ]
    },
    {
      "cell_type": "markdown",
      "metadata": {
        "id": "Wdw2NNCUpoCu",
        "colab_type": "text"
      },
      "source": [
        "3. Define a Loss function and optimizer\n",
        "^^^^^^^^^^^^^^^^^^^^^^^^^^^^^^^^^^^^^^^\n",
        "Let's use a Classification Cross-Entropy loss and SGD with momentum.\n",
        "\n"
      ]
    },
    {
      "cell_type": "code",
      "metadata": {
        "id": "M4xBbDROpoCv",
        "colab_type": "code",
        "colab": {}
      },
      "source": [
        "import torch.optim as optim\n",
        "\n",
        "criterion = nn.CrossEntropyLoss()\n",
        "optimizer = optim.SGD(net.parameters(), lr=0.0005, momentum=0.9)"
      ],
      "execution_count": 0,
      "outputs": []
    },
    {
      "cell_type": "code",
      "metadata": {
        "id": "cuFDvUOtkSet",
        "colab_type": "code",
        "outputId": "2fbdc2d2-17d1-488c-e105-1ec41d15360e",
        "colab": {
          "base_uri": "https://localhost:8080/",
          "height": 785
        }
      },
      "source": [
        "from torchsummary import summary\n",
        "use_cuda = torch.cuda.is_available()\n",
        "device = torch.device(\"cuda\" if use_cuda else \"cpu\")\n",
        "print(device)\n",
        "model = Net().to(device)\n",
        "summary(model, input_size=(3, 32, 32))"
      ],
      "execution_count": 0,
      "outputs": [
        {
          "output_type": "stream",
          "text": [
            "cuda\n",
            "torch.Size([2, 32, 3, 3])\n",
            "----------------------------------------------------------------\n",
            "        Layer (type)               Output Shape         Param #\n",
            "================================================================\n",
            "            Conv2d-1           [-1, 32, 31, 31]             416\n",
            "              ReLU-2           [-1, 32, 31, 31]               0\n",
            "           Dropout-3           [-1, 32, 31, 31]               0\n",
            "            Conv2d-4           [-1, 32, 30, 30]           4,128\n",
            "              ReLU-5           [-1, 32, 30, 30]               0\n",
            "           Dropout-6           [-1, 32, 30, 30]               0\n",
            "         MaxPool2d-7           [-1, 32, 15, 15]               0\n",
            "            Conv2d-8           [-1, 32, 14, 14]           4,128\n",
            "              ReLU-9           [-1, 32, 14, 14]               0\n",
            "          Dropout-10           [-1, 32, 14, 14]               0\n",
            "           Conv2d-11           [-1, 32, 13, 13]           4,128\n",
            "             ReLU-12           [-1, 32, 13, 13]               0\n",
            "          Dropout-13           [-1, 32, 13, 13]               0\n",
            "           Conv2d-14           [-1, 32, 12, 12]           4,128\n",
            "             ReLU-15           [-1, 32, 12, 12]               0\n",
            "          Dropout-16           [-1, 32, 12, 12]               0\n",
            "        MaxPool2d-17             [-1, 32, 6, 6]               0\n",
            "           Conv2d-18             [-1, 32, 5, 5]           4,128\n",
            "             ReLU-19             [-1, 32, 5, 5]               0\n",
            "          Dropout-20             [-1, 32, 5, 5]               0\n",
            "           Conv2d-21             [-1, 32, 4, 4]           4,128\n",
            "             ReLU-22             [-1, 32, 4, 4]               0\n",
            "          Dropout-23             [-1, 32, 4, 4]               0\n",
            "           Conv2d-24             [-1, 32, 3, 3]           4,128\n",
            "             ReLU-25             [-1, 32, 3, 3]               0\n",
            "          Dropout-26             [-1, 32, 3, 3]               0\n",
            "        AvgPool2d-27             [-1, 32, 3, 3]               0\n",
            "           Linear-28                   [-1, 10]           2,890\n",
            "================================================================\n",
            "Total params: 32,202\n",
            "Trainable params: 32,202\n",
            "Non-trainable params: 0\n",
            "----------------------------------------------------------------\n",
            "Input size (MB): 0.01\n",
            "Forward/backward pass size (MB): 1.84\n",
            "Params size (MB): 0.12\n",
            "Estimated Total Size (MB): 1.97\n",
            "----------------------------------------------------------------\n"
          ],
          "name": "stdout"
        },
        {
          "output_type": "stream",
          "text": [
            "/usr/local/lib/python3.6/dist-packages/ipykernel_launcher.py:97: UserWarning: Implicit dimension choice for log_softmax has been deprecated. Change the call to include dim=X as an argument.\n"
          ],
          "name": "stderr"
        }
      ]
    },
    {
      "cell_type": "markdown",
      "metadata": {
        "id": "O-odOrhdpoC2",
        "colab_type": "text"
      },
      "source": [
        "4. Train the network\n",
        "^^^^^^^^^^^^^^^^^^^^\n",
        "\n",
        "This is when things start to get interesting.\n",
        "We simply have to loop over our data iterator, and feed the inputs to the\n",
        "network and optimize.\n",
        "\n"
      ]
    },
    {
      "cell_type": "code",
      "metadata": {
        "id": "kkuRfo1IpoC3",
        "colab_type": "code",
        "outputId": "9b2325ab-60d8-4ae0-9d4d-ff9c41623dc8",
        "colab": {
          "base_uri": "https://localhost:8080/",
          "height": 1000
        }
      },
      "source": [
        "for epoch in range(30):  # loop over the dataset multiple times\n",
        "\n",
        "    running_loss = 0.0\n",
        "    for i, data in enumerate(trainloader, 0):\n",
        "        # get the inputs\n",
        "        inputs, labels = data\n",
        "\n",
        "        # zero the parameter gradients\n",
        "        optimizer.zero_grad()\n",
        "\n",
        "        # forward + backward + optimize\n",
        "        outputs = net(inputs)\n",
        "        loss = criterion(outputs, labels)\n",
        "        loss.backward()\n",
        "        optimizer.step()\n",
        "\n",
        "        # print statistics\n",
        "        running_loss += loss.item()\n",
        "        if i % 2000 == 1999:    # print every 2000 mini-batches\n",
        "            print('[%d, %5d] loss: %.3f' %\n",
        "                  (epoch + 1, i + 1, running_loss / 2000))\n",
        "            running_loss = 0.0\n",
        "\n",
        "print('Finished Training')"
      ],
      "execution_count": 0,
      "outputs": [
        {
          "output_type": "stream",
          "text": [
            "torch.Size([4, 32, 3, 3])\n",
            "torch.Size([4, 32, 3, 3])\n",
            "torch.Size([4, 32, 3, 3])\n",
            "torch.Size([4, 32, 3, 3])\n",
            "torch.Size([4, 32, 3, 3])\n",
            "torch.Size([4, 32, 3, 3])\n",
            "torch.Size([4, 32, 3, 3])\n",
            "torch.Size([4, 32, 3, 3])\n",
            "torch.Size([4, 32, 3, 3])\n",
            "torch.Size([4, 32, 3, 3])\n",
            "torch.Size([4, 32, 3, 3])\n",
            "torch.Size([4, 32, 3, 3])\n",
            "torch.Size([4, 32, 3, 3])\n"
          ],
          "name": "stdout"
        },
        {
          "output_type": "stream",
          "text": [
            "/usr/local/lib/python3.6/dist-packages/ipykernel_launcher.py:97: UserWarning: Implicit dimension choice for log_softmax has been deprecated. Change the call to include dim=X as an argument.\n"
          ],
          "name": "stderr"
        },
        {
          "output_type": "stream",
          "text": [
            "torch.Size([4, 32, 3, 3])\n",
            "torch.Size([4, 32, 3, 3])\n",
            "torch.Size([4, 32, 3, 3])\n",
            "torch.Size([4, 32, 3, 3])\n",
            "torch.Size([4, 32, 3, 3])\n",
            "torch.Size([4, 32, 3, 3])\n",
            "torch.Size([4, 32, 3, 3])\n",
            "torch.Size([4, 32, 3, 3])\n",
            "torch.Size([4, 32, 3, 3])\n",
            "torch.Size([4, 32, 3, 3])\n",
            "torch.Size([4, 32, 3, 3])\n",
            "torch.Size([4, 32, 3, 3])\n",
            "torch.Size([4, 32, 3, 3])\n",
            "torch.Size([4, 32, 3, 3])\n",
            "torch.Size([4, 32, 3, 3])\n",
            "torch.Size([4, 32, 3, 3])\n",
            "torch.Size([4, 32, 3, 3])\n",
            "torch.Size([4, 32, 3, 3])\n",
            "torch.Size([4, 32, 3, 3])\n",
            "torch.Size([4, 32, 3, 3])\n",
            "torch.Size([4, 32, 3, 3])\n",
            "torch.Size([4, 32, 3, 3])\n",
            "torch.Size([4, 32, 3, 3])\n",
            "torch.Size([4, 32, 3, 3])\n",
            "torch.Size([4, 32, 3, 3])\n",
            "torch.Size([4, 32, 3, 3])\n",
            "torch.Size([4, 32, 3, 3])\n",
            "torch.Size([4, 32, 3, 3])\n",
            "torch.Size([4, 32, 3, 3])\n",
            "torch.Size([4, 32, 3, 3])\n",
            "torch.Size([4, 32, 3, 3])\n",
            "torch.Size([4, 32, 3, 3])\n",
            "torch.Size([4, 32, 3, 3])\n",
            "torch.Size([4, 32, 3, 3])\n",
            "torch.Size([4, 32, 3, 3])\n",
            "torch.Size([4, 32, 3, 3])\n",
            "torch.Size([4, 32, 3, 3])\n",
            "torch.Size([4, 32, 3, 3])\n",
            "torch.Size([4, 32, 3, 3])\n",
            "torch.Size([4, 32, 3, 3])\n",
            "torch.Size([4, 32, 3, 3])\n",
            "torch.Size([4, 32, 3, 3])\n",
            "torch.Size([4, 32, 3, 3])\n",
            "torch.Size([4, 32, 3, 3])\n",
            "torch.Size([4, 32, 3, 3])\n",
            "torch.Size([4, 32, 3, 3])\n",
            "torch.Size([4, 32, 3, 3])\n",
            "torch.Size([4, 32, 3, 3])\n",
            "torch.Size([4, 32, 3, 3])\n",
            "torch.Size([4, 32, 3, 3])\n",
            "torch.Size([4, 32, 3, 3])\n",
            "torch.Size([4, 32, 3, 3])\n",
            "torch.Size([4, 32, 3, 3])\n",
            "torch.Size([4, 32, 3, 3])\n",
            "torch.Size([4, 32, 3, 3])\n",
            "torch.Size([4, 32, 3, 3])\n",
            "torch.Size([4, 32, 3, 3])\n",
            "torch.Size([4, 32, 3, 3])\n",
            "torch.Size([4, 32, 3, 3])\n",
            "torch.Size([4, 32, 3, 3])\n",
            "torch.Size([4, 32, 3, 3])\n",
            "torch.Size([4, 32, 3, 3])\n",
            "torch.Size([4, 32, 3, 3])\n",
            "torch.Size([4, 32, 3, 3])\n",
            "torch.Size([4, 32, 3, 3])\n",
            "torch.Size([4, 32, 3, 3])\n",
            "torch.Size([4, 32, 3, 3])\n",
            "torch.Size([4, 32, 3, 3])\n",
            "torch.Size([4, 32, 3, 3])\n",
            "torch.Size([4, 32, 3, 3])\n",
            "torch.Size([4, 32, 3, 3])\n",
            "torch.Size([4, 32, 3, 3])\n",
            "torch.Size([4, 32, 3, 3])\n",
            "torch.Size([4, 32, 3, 3])\n",
            "torch.Size([4, 32, 3, 3])\n",
            "torch.Size([4, 32, 3, 3])\n",
            "torch.Size([4, 32, 3, 3])\n",
            "torch.Size([4, 32, 3, 3])\n",
            "torch.Size([4, 32, 3, 3])\n",
            "torch.Size([4, 32, 3, 3])\n",
            "torch.Size([4, 32, 3, 3])\n",
            "torch.Size([4, 32, 3, 3])\n",
            "torch.Size([4, 32, 3, 3])\n",
            "torch.Size([4, 32, 3, 3])\n",
            "torch.Size([4, 32, 3, 3])\n",
            "torch.Size([4, 32, 3, 3])\n",
            "torch.Size([4, 32, 3, 3])\n",
            "torch.Size([4, 32, 3, 3])\n",
            "torch.Size([4, 32, 3, 3])\n",
            "torch.Size([4, 32, 3, 3])\n",
            "torch.Size([4, 32, 3, 3])\n",
            "torch.Size([4, 32, 3, 3])\n",
            "torch.Size([4, 32, 3, 3])\n",
            "torch.Size([4, 32, 3, 3])\n",
            "torch.Size([4, 32, 3, 3])\n",
            "torch.Size([4, 32, 3, 3])\n",
            "torch.Size([4, 32, 3, 3])\n",
            "torch.Size([4, 32, 3, 3])\n",
            "torch.Size([4, 32, 3, 3])\n",
            "torch.Size([4, 32, 3, 3])\n",
            "torch.Size([4, 32, 3, 3])\n",
            "torch.Size([4, 32, 3, 3])\n",
            "torch.Size([4, 32, 3, 3])\n",
            "torch.Size([4, 32, 3, 3])\n",
            "torch.Size([4, 32, 3, 3])\n",
            "torch.Size([4, 32, 3, 3])\n",
            "torch.Size([4, 32, 3, 3])\n",
            "torch.Size([4, 32, 3, 3])\n",
            "torch.Size([4, 32, 3, 3])\n",
            "torch.Size([4, 32, 3, 3])\n",
            "torch.Size([4, 32, 3, 3])\n",
            "torch.Size([4, 32, 3, 3])\n",
            "torch.Size([4, 32, 3, 3])\n",
            "torch.Size([4, 32, 3, 3])\n",
            "torch.Size([4, 32, 3, 3])\n",
            "torch.Size([4, 32, 3, 3])\n",
            "torch.Size([4, 32, 3, 3])\n",
            "torch.Size([4, 32, 3, 3])\n",
            "torch.Size([4, 32, 3, 3])\n",
            "torch.Size([4, 32, 3, 3])\n",
            "torch.Size([4, 32, 3, 3])\n",
            "torch.Size([4, 32, 3, 3])\n",
            "torch.Size([4, 32, 3, 3])\n",
            "torch.Size([4, 32, 3, 3])\n",
            "torch.Size([4, 32, 3, 3])\n",
            "torch.Size([4, 32, 3, 3])\n",
            "torch.Size([4, 32, 3, 3])\n",
            "torch.Size([4, 32, 3, 3])\n",
            "torch.Size([4, 32, 3, 3])\n",
            "torch.Size([4, 32, 3, 3])\n",
            "torch.Size([4, 32, 3, 3])\n",
            "torch.Size([4, 32, 3, 3])\n",
            "torch.Size([4, 32, 3, 3])\n",
            "torch.Size([4, 32, 3, 3])\n",
            "torch.Size([4, 32, 3, 3])\n",
            "torch.Size([4, 32, 3, 3])\n",
            "torch.Size([4, 32, 3, 3])\n",
            "torch.Size([4, 32, 3, 3])\n",
            "torch.Size([4, 32, 3, 3])\n",
            "torch.Size([4, 32, 3, 3])\n",
            "torch.Size([4, 32, 3, 3])\n",
            "torch.Size([4, 32, 3, 3])\n",
            "torch.Size([4, 32, 3, 3])\n",
            "torch.Size([4, 32, 3, 3])\n",
            "torch.Size([4, 32, 3, 3])\n",
            "torch.Size([4, 32, 3, 3])\n",
            "torch.Size([4, 32, 3, 3])\n",
            "torch.Size([4, 32, 3, 3])\n",
            "torch.Size([4, 32, 3, 3])\n",
            "torch.Size([4, 32, 3, 3])\n",
            "torch.Size([4, 32, 3, 3])\n",
            "torch.Size([4, 32, 3, 3])\n",
            "torch.Size([4, 32, 3, 3])\n",
            "torch.Size([4, 32, 3, 3])\n",
            "torch.Size([4, 32, 3, 3])\n",
            "torch.Size([4, 32, 3, 3])\n",
            "torch.Size([4, 32, 3, 3])\n",
            "torch.Size([4, 32, 3, 3])\n",
            "torch.Size([4, 32, 3, 3])\n",
            "torch.Size([4, 32, 3, 3])\n",
            "torch.Size([4, 32, 3, 3])\n",
            "torch.Size([4, 32, 3, 3])\n",
            "torch.Size([4, 32, 3, 3])\n",
            "torch.Size([4, 32, 3, 3])\n",
            "torch.Size([4, 32, 3, 3])\n",
            "torch.Size([4, 32, 3, 3])\n",
            "torch.Size([4, 32, 3, 3])\n",
            "torch.Size([4, 32, 3, 3])\n",
            "torch.Size([4, 32, 3, 3])\n",
            "torch.Size([4, 32, 3, 3])\n",
            "torch.Size([4, 32, 3, 3])\n",
            "torch.Size([4, 32, 3, 3])\n",
            "torch.Size([4, 32, 3, 3])\n",
            "torch.Size([4, 32, 3, 3])\n",
            "torch.Size([4, 32, 3, 3])\n",
            "torch.Size([4, 32, 3, 3])\n",
            "torch.Size([4, 32, 3, 3])\n",
            "torch.Size([4, 32, 3, 3])\n",
            "torch.Size([4, 32, 3, 3])\n",
            "torch.Size([4, 32, 3, 3])\n",
            "torch.Size([4, 32, 3, 3])\n",
            "torch.Size([4, 32, 3, 3])\n",
            "torch.Size([4, 32, 3, 3])\n",
            "torch.Size([4, 32, 3, 3])\n",
            "torch.Size([4, 32, 3, 3])\n",
            "torch.Size([4, 32, 3, 3])\n",
            "torch.Size([4, 32, 3, 3])\n",
            "torch.Size([4, 32, 3, 3])\n",
            "torch.Size([4, 32, 3, 3])\n",
            "torch.Size([4, 32, 3, 3])\n",
            "torch.Size([4, 32, 3, 3])\n",
            "torch.Size([4, 32, 3, 3])\n",
            "torch.Size([4, 32, 3, 3])\n",
            "torch.Size([4, 32, 3, 3])\n",
            "torch.Size([4, 32, 3, 3])\n",
            "torch.Size([4, 32, 3, 3])\n",
            "torch.Size([4, 32, 3, 3])\n",
            "torch.Size([4, 32, 3, 3])\n",
            "torch.Size([4, 32, 3, 3])\n",
            "torch.Size([4, 32, 3, 3])\n",
            "torch.Size([4, 32, 3, 3])\n",
            "torch.Size([4, 32, 3, 3])\n",
            "torch.Size([4, 32, 3, 3])\n",
            "torch.Size([4, 32, 3, 3])\n",
            "torch.Size([4, 32, 3, 3])\n",
            "torch.Size([4, 32, 3, 3])\n",
            "torch.Size([4, 32, 3, 3])\n",
            "torch.Size([4, 32, 3, 3])\n",
            "torch.Size([4, 32, 3, 3])\n",
            "torch.Size([4, 32, 3, 3])\n",
            "torch.Size([4, 32, 3, 3])\n",
            "torch.Size([4, 32, 3, 3])\n",
            "torch.Size([4, 32, 3, 3])\n",
            "torch.Size([4, 32, 3, 3])\n",
            "torch.Size([4, 32, 3, 3])\n",
            "torch.Size([4, 32, 3, 3])\n",
            "torch.Size([4, 32, 3, 3])\n",
            "torch.Size([4, 32, 3, 3])\n",
            "torch.Size([4, 32, 3, 3])\n",
            "torch.Size([4, 32, 3, 3])\n",
            "torch.Size([4, 32, 3, 3])\n",
            "torch.Size([4, 32, 3, 3])\n",
            "torch.Size([4, 32, 3, 3])\n",
            "torch.Size([4, 32, 3, 3])\n",
            "torch.Size([4, 32, 3, 3])\n",
            "torch.Size([4, 32, 3, 3])\n",
            "torch.Size([4, 32, 3, 3])\n",
            "torch.Size([4, 32, 3, 3])\n",
            "torch.Size([4, 32, 3, 3])\n",
            "torch.Size([4, 32, 3, 3])\n",
            "torch.Size([4, 32, 3, 3])\n",
            "torch.Size([4, 32, 3, 3])\n",
            "torch.Size([4, 32, 3, 3])\n",
            "torch.Size([4, 32, 3, 3])\n",
            "torch.Size([4, 32, 3, 3])\n",
            "torch.Size([4, 32, 3, 3])\n",
            "torch.Size([4, 32, 3, 3])\n",
            "torch.Size([4, 32, 3, 3])\n",
            "torch.Size([4, 32, 3, 3])\n",
            "torch.Size([4, 32, 3, 3])\n",
            "torch.Size([4, 32, 3, 3])\n",
            "torch.Size([4, 32, 3, 3])\n",
            "torch.Size([4, 32, 3, 3])\n",
            "torch.Size([4, 32, 3, 3])\n",
            "torch.Size([4, 32, 3, 3])\n",
            "torch.Size([4, 32, 3, 3])\n",
            "torch.Size([4, 32, 3, 3])\n",
            "torch.Size([4, 32, 3, 3])\n",
            "torch.Size([4, 32, 3, 3])\n",
            "torch.Size([4, 32, 3, 3])\n",
            "torch.Size([4, 32, 3, 3])\n",
            "torch.Size([4, 32, 3, 3])\n",
            "torch.Size([4, 32, 3, 3])\n",
            "torch.Size([4, 32, 3, 3])\n",
            "torch.Size([4, 32, 3, 3])\n",
            "torch.Size([4, 32, 3, 3])\n",
            "torch.Size([4, 32, 3, 3])\n",
            "torch.Size([4, 32, 3, 3])\n",
            "torch.Size([4, 32, 3, 3])\n",
            "torch.Size([4, 32, 3, 3])\n",
            "torch.Size([4, 32, 3, 3])\n",
            "torch.Size([4, 32, 3, 3])\n",
            "torch.Size([4, 32, 3, 3])\n",
            "torch.Size([4, 32, 3, 3])\n",
            "torch.Size([4, 32, 3, 3])\n",
            "torch.Size([4, 32, 3, 3])\n",
            "torch.Size([4, 32, 3, 3])\n",
            "torch.Size([4, 32, 3, 3])\n",
            "torch.Size([4, 32, 3, 3])\n",
            "torch.Size([4, 32, 3, 3])\n",
            "torch.Size([4, 32, 3, 3])\n",
            "torch.Size([4, 32, 3, 3])\n",
            "torch.Size([4, 32, 3, 3])\n",
            "torch.Size([4, 32, 3, 3])\n",
            "torch.Size([4, 32, 3, 3])\n",
            "torch.Size([4, 32, 3, 3])\n",
            "torch.Size([4, 32, 3, 3])\n",
            "torch.Size([4, 32, 3, 3])\n",
            "torch.Size([4, 32, 3, 3])\n",
            "torch.Size([4, 32, 3, 3])\n",
            "torch.Size([4, 32, 3, 3])\n",
            "torch.Size([4, 32, 3, 3])\n",
            "torch.Size([4, 32, 3, 3])\n",
            "torch.Size([4, 32, 3, 3])\n"
          ],
          "name": "stdout"
        }
      ]
    },
    {
      "cell_type": "markdown",
      "metadata": {
        "id": "YLrvL_fHpoC5",
        "colab_type": "text"
      },
      "source": [
        "5. Test the network on the test data\n",
        "^^^^^^^^^^^^^^^^^^^^^^^^^^^^^^^^^^^^\n",
        "\n",
        "We have trained the network for 2 passes over the training dataset.\n",
        "But we need to check if the network has learnt anything at all.\n",
        "\n",
        "We will check this by predicting the class label that the neural network\n",
        "outputs, and checking it against the ground-truth. If the prediction is\n",
        "correct, we add the sample to the list of correct predictions.\n",
        "\n",
        "Okay, first step. Let us display an image from the test set to get familiar.\n",
        "\n"
      ]
    },
    {
      "cell_type": "code",
      "metadata": {
        "id": "nizbsvw9poC6",
        "colab_type": "code",
        "colab": {}
      },
      "source": [
        "dataiter = iter(testloader)\n",
        "images, labels = dataiter.next()\n",
        "\n",
        "# print images\n",
        "imshow(torchvision.utils.make_grid(images))\n",
        "print('GroundTruth: ', ' '.join('%5s' % classes[labels[j]] for j in range(4)))"
      ],
      "execution_count": 0,
      "outputs": []
    },
    {
      "cell_type": "markdown",
      "metadata": {
        "id": "DAx4QPHVpoC8",
        "colab_type": "text"
      },
      "source": [
        "Okay, now let us see what the neural network thinks these examples above are:\n",
        "\n"
      ]
    },
    {
      "cell_type": "code",
      "metadata": {
        "id": "HVLjlssWpoC9",
        "colab_type": "code",
        "colab": {}
      },
      "source": [
        "outputs = net(images)"
      ],
      "execution_count": 0,
      "outputs": []
    },
    {
      "cell_type": "markdown",
      "metadata": {
        "id": "u8OTHZEApoC_",
        "colab_type": "text"
      },
      "source": [
        "The outputs are energies for the 10 classes.\n",
        "Higher the energy for a class, the more the network\n",
        "thinks that the image is of the particular class.\n",
        "So, let's get the index of the highest energy:\n",
        "\n"
      ]
    },
    {
      "cell_type": "code",
      "metadata": {
        "id": "ABRIDW3lpoDA",
        "colab_type": "code",
        "colab": {}
      },
      "source": [
        "_, predicted = torch.max(outputs, 1)\n",
        "\n",
        "print('Predicted: ', ' '.join('%5s' % classes[predicted[j]]\n",
        "                              for j in range(4)))"
      ],
      "execution_count": 0,
      "outputs": []
    },
    {
      "cell_type": "markdown",
      "metadata": {
        "id": "2TV0TXL1poDC",
        "colab_type": "text"
      },
      "source": [
        "The results seem pretty good.\n",
        "\n",
        "Let us look at how the network performs on the whole dataset.\n",
        "\n"
      ]
    },
    {
      "cell_type": "code",
      "metadata": {
        "id": "SZ4-5CESpoDD",
        "colab_type": "code",
        "colab": {}
      },
      "source": [
        "correct = 0\n",
        "total = 0\n",
        "with torch.no_grad():\n",
        "    for data in testloader:\n",
        "        images, labels = data\n",
        "        outputs = net(images)\n",
        "        _, predicted = torch.max(outputs.data, 1)\n",
        "        total += labels.size(0)\n",
        "        correct += (predicted == labels).sum().item()\n",
        "\n",
        "print('Accuracy of the network on the 10000 test images: %d %%' % (\n",
        "    100 * correct / total))"
      ],
      "execution_count": 0,
      "outputs": []
    },
    {
      "cell_type": "markdown",
      "metadata": {
        "id": "eDdwPBl8poDF",
        "colab_type": "text"
      },
      "source": [
        "That looks waaay better than chance, which is 10% accuracy (randomly picking\n",
        "a class out of 10 classes).\n",
        "Seems like the network learnt something.\n",
        "\n",
        "Hmmm, what are the classes that performed well, and the classes that did\n",
        "not perform well:\n",
        "\n"
      ]
    },
    {
      "cell_type": "code",
      "metadata": {
        "id": "pDNFuDEDpoDG",
        "colab_type": "code",
        "colab": {}
      },
      "source": [
        "class_correct = list(0. for i in range(10))\n",
        "class_total = list(0. for i in range(10))\n",
        "with torch.no_grad():\n",
        "    for data in testloader:\n",
        "        images, labels = data\n",
        "        outputs = net(images)\n",
        "        _, predicted = torch.max(outputs, 1)\n",
        "        c = (predicted == labels).squeeze()\n",
        "        for i in range(4):\n",
        "            label = labels[i]\n",
        "            class_correct[label] += c[i].item()\n",
        "            class_total[label] += 1\n",
        "\n",
        "\n",
        "for i in range(10):\n",
        "    print('Accuracy of %5s : %2d %%' % (\n",
        "        classes[i], 100 * class_correct[i] / class_total[i]))"
      ],
      "execution_count": 0,
      "outputs": []
    },
    {
      "cell_type": "code",
      "metadata": {
        "id": "UXFjEKC-Wxhh",
        "colab_type": "code",
        "colab": {}
      },
      "source": [
        ""
      ],
      "execution_count": 0,
      "outputs": []
    }
  ]
}